{
 "cells": [
  {
   "cell_type": "code",
   "execution_count": 2,
   "metadata": {},
   "outputs": [],
   "source": [
    "from newsapi import NewsApiClient\n",
    "from config import NEWS_API_KEY\n",
    "\n",
    "# Init\n",
    "newsapi = NewsApiClient(api_key=NEWS_API_KEY)\n",
    "\n",
    "# /v2/everything\n",
    "all_articles = newsapi.get_everything(q='bitcoin')"
   ]
  },
  {
   "cell_type": "code",
   "execution_count": 3,
   "metadata": {},
   "outputs": [
    {
     "name": "stdout",
     "output_type": "stream",
     "text": [
      "Index(['source', 'author', 'title', 'description', 'url', 'urlToImage',\n",
      "       'publishedAt', 'content'],\n",
      "      dtype='object')\n"
     ]
    }
   ],
   "source": [
    "import pandas as pd\n",
    "\n",
    "df = pd.DataFrame(all_articles['articles'])\n",
    "print(df.columns)"
   ]
  },
  {
   "cell_type": "code",
   "execution_count": 4,
   "metadata": {},
   "outputs": [
    {
     "name": "stderr",
     "output_type": "stream",
     "text": [
      "c:\\Users\\Anderson\\Documents\\AI\\news-query-llms\\.conda\\Lib\\site-packages\\huggingface_hub\\file_download.py:1150: FutureWarning: `resume_download` is deprecated and will be removed in version 1.0.0. Downloads always resume when possible. If you want to force a new download, use `force_download=True`.\n",
      "  warnings.warn(\n"
     ]
    }
   ],
   "source": [
    "from pinecone import Pinecone\n",
    "from config import PINECONE_API_KEY\n",
    "from transformers import AutoTokenizer, AutoModel\n",
    "import torch\n",
    "import numpy as np\n",
    "\n",
    "# Load pre-trained model and tokenizer\n",
    "tokenizer = AutoTokenizer.from_pretrained('sentence-transformers/all-MiniLM-L6-v2')\n",
    "model = AutoModel.from_pretrained('sentence-transformers/all-MiniLM-L6-v2')\n",
    "\n",
    "pc = Pinecone(api_key=PINECONE_API_KEY)\n",
    "index_name = 'news-articles-llms'\n",
    "index = pc.Index(index_name)\n",
    "\n",
    "articles = df.to_dict(orient='records')\n",
    "for article in articles:\n",
    "    text = article['title'] + ' ' + article['content']\n",
    "    inputs = tokenizer(text, return_tensors='pt', truncation=True, padding=True, max_length=512)\n",
    "    with torch.no_grad():\n",
    "        outputs = model(**inputs)\n",
    "    embeddings = outputs.last_hidden_state.mean(dim=1)\n",
    "    embedding = embeddings[0].numpy()\n",
    "    index.upsert([(article['url'], embedding.tolist())])"
   ]
  },
  {
   "cell_type": "code",
   "execution_count": 13,
   "metadata": {},
   "outputs": [
    {
     "name": "stdout",
     "output_type": "stream",
     "text": [
      "[{'id': 'https://readwrite.com/bitcoin-slumps-below-59000-amid-market-uncertainty/',\n",
      " 'score': 0.661143482,\n",
      " 'values': []}, {'id': 'https://readwrite.com/bitcoin-transaction-cost-hits-four-year-low/',\n",
      " 'score': 0.635518,\n",
      " 'values': []}, {'id': 'https://readwrite.com/bitcoin-plunge-below-63k-triggers-wave-of-liquidations/',\n",
      " 'score': 0.61461252,\n",
      " 'values': []}, {'id': 'https://readwrite.com/bitcoin-surges-following-assassination-attempt-on-donald-trump/',\n",
      " 'score': 0.595728636,\n",
      " 'values': []}, {'id': 'https://readwrite.com/cryptocurrency-market-tumbles-665m-liquidated-as-bitcoin-falls/',\n",
      " 'score': 0.588863492,\n",
      " 'values': []}]\n"
     ]
    }
   ],
   "source": [
    "query = \"What most have impacted Bitcoin price recently?\"\n",
    "\n",
    "inputs = tokenizer(query, return_tensors='pt', truncation=True, padding=True, max_length=512)\n",
    "with torch.no_grad():\n",
    "    outputs = model(**inputs)\n",
    "embeddings = outputs.last_hidden_state.mean(dim=1)\n",
    "\n",
    "query_embedding = embeddings[0].numpy().tolist()\n",
    "\n",
    "query_embedding = np.clip(np.array(query_embedding, dtype=np.float32), -1.0, 1.0).tolist()\n",
    "\n",
    "results = index.query(vector=[query_embedding], top_k=5)\n",
    "\n",
    "relevant_news = results['matches']\n",
    "\n",
    "print(relevant_news)"
   ]
  },
  {
   "cell_type": "code",
   "execution_count": 11,
   "metadata": {},
   "outputs": [
    {
     "ename": "PineconeApiAttributeError",
     "evalue": "ScoredVector has no attribute 'title' at ['['received_data', 'matches', 0]']['title']",
     "output_type": "error",
     "traceback": [
      "\u001b[1;31m---------------------------------------------------------------------------\u001b[0m",
      "\u001b[1;31mPineconeApiAttributeError\u001b[0m                 Traceback (most recent call last)",
      "Cell \u001b[1;32mIn[11], line 4\u001b[0m\n\u001b[0;32m      1\u001b[0m summary \u001b[38;5;241m=\u001b[39m \u001b[38;5;124mf\u001b[39m\u001b[38;5;124m\"\u001b[39m\u001b[38;5;124mThe most significant factors impacting \u001b[39m\u001b[38;5;132;01m{\u001b[39;00mquery\u001b[38;5;132;01m}\u001b[39;00m\u001b[38;5;124m include:\u001b[39m\u001b[38;5;130;01m\\n\u001b[39;00m\u001b[38;5;130;01m\\n\u001b[39;00m\u001b[38;5;124m\"\u001b[39m\n\u001b[0;32m      3\u001b[0m \u001b[38;5;28;01mfor\u001b[39;00m article \u001b[38;5;129;01min\u001b[39;00m relevant_news:\n\u001b[1;32m----> 4\u001b[0m     summary \u001b[38;5;241m+\u001b[39m\u001b[38;5;241m=\u001b[39m \u001b[38;5;124mf\u001b[39m\u001b[38;5;124m\"\u001b[39m\u001b[38;5;124m- \u001b[39m\u001b[38;5;132;01m{\u001b[39;00m\u001b[43marticle\u001b[49m\u001b[43m[\u001b[49m\u001b[38;5;124;43m'\u001b[39;49m\u001b[38;5;124;43mtitle\u001b[39;49m\u001b[38;5;124;43m'\u001b[39;49m\u001b[43m]\u001b[49m\u001b[38;5;132;01m}\u001b[39;00m\u001b[38;5;124m: \u001b[39m\u001b[38;5;132;01m{\u001b[39;00marticle[\u001b[38;5;124m'\u001b[39m\u001b[38;5;124mcontent\u001b[39m\u001b[38;5;124m'\u001b[39m][:\u001b[38;5;241m200\u001b[39m]\u001b[38;5;132;01m}\u001b[39;00m\u001b[38;5;124m...\u001b[39m\u001b[38;5;130;01m\\n\u001b[39;00m\u001b[38;5;124m\"\u001b[39m\n\u001b[0;32m      5\u001b[0m     summary \u001b[38;5;241m+\u001b[39m\u001b[38;5;241m=\u001b[39m \u001b[38;5;124mf\u001b[39m\u001b[38;5;124m\"\u001b[39m\u001b[38;5;124m  [Read more](\u001b[39m\u001b[38;5;132;01m{\u001b[39;00marticle[\u001b[38;5;124m'\u001b[39m\u001b[38;5;124murl\u001b[39m\u001b[38;5;124m'\u001b[39m]\u001b[38;5;132;01m}\u001b[39;00m\u001b[38;5;124m)\u001b[39m\u001b[38;5;130;01m\\n\u001b[39;00m\u001b[38;5;130;01m\\n\u001b[39;00m\u001b[38;5;124m\"\u001b[39m\n\u001b[0;32m      7\u001b[0m \u001b[38;5;28mprint\u001b[39m(summary)\n",
      "File \u001b[1;32mc:\\Users\\Anderson\\Documents\\AI\\news-query-llms\\.conda\\Lib\\site-packages\\pinecone\\core\\client\\model_utils.py:496\u001b[0m, in \u001b[0;36mModelNormal.__getitem__\u001b[1;34m(self, name)\u001b[0m\n\u001b[0;32m    493\u001b[0m \u001b[38;5;28;01mif\u001b[39;00m name \u001b[38;5;129;01min\u001b[39;00m \u001b[38;5;28mself\u001b[39m:\n\u001b[0;32m    494\u001b[0m     \u001b[38;5;28;01mreturn\u001b[39;00m \u001b[38;5;28mself\u001b[39m\u001b[38;5;241m.\u001b[39mget(name)\n\u001b[1;32m--> 496\u001b[0m \u001b[38;5;28;01mraise\u001b[39;00m PineconeApiAttributeError(\n\u001b[0;32m    497\u001b[0m     \u001b[38;5;124m\"\u001b[39m\u001b[38;5;132;01m{0}\u001b[39;00m\u001b[38;5;124m has no attribute \u001b[39m\u001b[38;5;124m'\u001b[39m\u001b[38;5;132;01m{1}\u001b[39;00m\u001b[38;5;124m'\u001b[39m\u001b[38;5;124m\"\u001b[39m\u001b[38;5;241m.\u001b[39mformat(\n\u001b[0;32m    498\u001b[0m         \u001b[38;5;28mtype\u001b[39m(\u001b[38;5;28mself\u001b[39m)\u001b[38;5;241m.\u001b[39m\u001b[38;5;18m__name__\u001b[39m, name),\n\u001b[0;32m    499\u001b[0m     [e \u001b[38;5;28;01mfor\u001b[39;00m e \u001b[38;5;129;01min\u001b[39;00m [\u001b[38;5;28mself\u001b[39m\u001b[38;5;241m.\u001b[39m_path_to_item, name] \u001b[38;5;28;01mif\u001b[39;00m e]\n\u001b[0;32m    500\u001b[0m )\n",
      "\u001b[1;31mPineconeApiAttributeError\u001b[0m: ScoredVector has no attribute 'title' at ['['received_data', 'matches', 0]']['title']"
     ]
    }
   ],
   "source": [
    "summary = f\"The most significant factors impacting {query} include:\\n\\n\"\n",
    "\n",
    "for article in relevant_news:\n",
    "    summary += f\"- {article['title']}: {article['content'][:200]}...\\n\"\n",
    "    summary += f\"  [Read more]({article['url']})\\n\\n\"\n",
    " \n",
    "print(summary)"
   ]
  }
 ],
 "metadata": {
  "kernelspec": {
   "display_name": "Python 3",
   "language": "python",
   "name": "python3"
  },
  "language_info": {
   "codemirror_mode": {
    "name": "ipython",
    "version": 3
   },
   "file_extension": ".py",
   "mimetype": "text/x-python",
   "name": "python",
   "nbconvert_exporter": "python",
   "pygments_lexer": "ipython3",
   "version": "3.11.9"
  }
 },
 "nbformat": 4,
 "nbformat_minor": 2
}
